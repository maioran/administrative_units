{
 "cells": [
  {
   "cell_type": "markdown",
   "id": "3198f6bd",
   "metadata": {},
   "source": [
    "1 - Set working enviroment"
   ]
  },
  {
   "cell_type": "code",
   "execution_count": 162,
   "id": "48ba806c",
   "metadata": {},
   "outputs": [],
   "source": [
    "#import python packages\n",
    "import geopandas as gpd\n",
    "import pandas as pd\n",
    "import os\n",
    "from difflib import SequenceMatcher\n",
    "import numpy as np"
   ]
  },
  {
   "cell_type": "code",
   "execution_count": 163,
   "id": "3835a524",
   "metadata": {},
   "outputs": [],
   "source": [
    "#import functions and config folders\n",
    "from scripts.config import output_folder\n",
    "from scripts.config import processed_folder\n",
    "from scripts.functions import norm_gaul_levels"
   ]
  },
  {
   "cell_type": "code",
   "execution_count": 164,
   "id": "0a54a7de",
   "metadata": {},
   "outputs": [],
   "source": [
    "#Import from main_p.ipynb fao gaul 15 data\n",
    "%store -r fao_gaul_15"
   ]
  },
  {
   "cell_type": "code",
   "execution_count": 165,
   "id": "ef17223b",
   "metadata": {},
   "outputs": [],
   "source": [
    "#Import from main_p.ipynb fao gaul 24 data\n",
    "%store -r fao_gaul_24"
   ]
  },
  {
   "cell_type": "code",
   "execution_count": 166,
   "id": "87b886b0",
   "metadata": {},
   "outputs": [],
   "source": [
    "#set projected CRS for fao gaul 15 (same to fao gaul 24)\n",
    "fao_gaul_15.crs = \"EPSG:4326\""
   ]
  },
  {
   "cell_type": "code",
   "execution_count": 167,
   "id": "4914184e",
   "metadata": {},
   "outputs": [],
   "source": [
    "#set database index\n",
    "fao_gaul_15.index = np.arange(fao_gaul_15.shape[0])\n",
    "fao_gaul_24.index = np.arange(fao_gaul_24.shape[0])"
   ]
  },
  {
   "cell_type": "markdown",
   "id": "903a12e8",
   "metadata": {},
   "source": [
    "2 - Delete from main databases N.A. values and store in excel files"
   ]
  },
  {
   "cell_type": "code",
   "execution_count": 168,
   "id": "74d57ba2",
   "metadata": {},
   "outputs": [],
   "source": [
    "#Extracting n.a. values 2015\n",
    "na_15 = (fao_gaul_15['ADM2_NAME'] == 'Administrative unit not available') | \\\n",
    "     (fao_gaul_15['ADM0_NAME'] == 'Administrative unit not available') | \\\n",
    "     (fao_gaul_15['ADM1_NAME'] == 'Administrative unit not available')\n",
    "\n",
    "na_15 = gpd.GeoDataFrame(fao_gaul_15[na_15])\n",
    "\n",
    "na_15.to_excel(os.path.join(processed_folder,\"na_2015.xlsx\"),index=False)\n"
   ]
  },
  {
   "cell_type": "code",
   "execution_count": 169,
   "id": "9d4dcb57",
   "metadata": {},
   "outputs": [],
   "source": [
    "#Extracting n.a. values 2024\n",
    "na_24 = (fao_gaul_24['gaul2_name'] == 'Administrative Unit Not Available') | \\\n",
    "     (fao_gaul_24['gaul1_name'] == 'Administrative Unit Not Available') | \\\n",
    "     (fao_gaul_24['gaul0_name'] == 'Administrative Unit Not Available')\n",
    "\n",
    "na_24 = gpd.GeoDataFrame(fao_gaul_24[na_24])\n",
    "\n",
    "na_24.to_excel(os.path.join(processed_folder,\"na_2024.xlsx\"),index=False)"
   ]
  },
  {
   "cell_type": "code",
   "execution_count": 170,
   "id": "3c9e2e2d",
   "metadata": {},
   "outputs": [],
   "source": [
    "#clean 2015 data from n.a. values\n",
    "to_drop_15 = na_15.index\n",
    "fao_gaul_15_clean= gpd.GeoDataFrame(fao_gaul_15.drop(to_drop_15))"
   ]
  },
  {
   "cell_type": "code",
   "execution_count": 171,
   "id": "6a612d1b",
   "metadata": {},
   "outputs": [],
   "source": [
    "#clean 2024 data from n.a. values\n",
    "to_drop_24 = na_24.index\n",
    "fao_gaul_24_clean= gpd.GeoDataFrame(fao_gaul_24.drop(to_drop_24))"
   ]
  },
  {
   "cell_type": "code",
   "execution_count": null,
   "id": "76fe29d7",
   "metadata": {},
   "outputs": [
    {
     "name": "stdout",
     "output_type": "stream",
     "text": [
      "count before cleaning: 38258\n",
      "count after cleaning: 37108\n",
      "n.a. rows removed: 1150\n",
      "OK!! fao_gaul_15_clean n. of rows matches expected count after cleaning.\n"
     ]
    }
   ],
   "source": [
    "#Check if the number of rows in fao_gaul_15_clean matches the expected count after removing n.a. values\n",
    "\n",
    "print('count before cleaning:', len(fao_gaul_15))\n",
    "print('count after cleaning:', len(fao_gaul_15_clean))\n",
    "print('n.a. rows removed:', len(to_drop_15))\n",
    "\n",
    "if len(fao_gaul_24_clean) + len(to_drop_24) != len(fao_gaul_24):\n",
    "    print(\"Warning: The number of rows in fao_gaul_15_clean does not match the expected count after removing n.a. values.\")\n",
    "else:\n",
    "    print(\"OK!! fao_gaul_15_clean n. of rows matches expected count after cleaning.\")\n",
    "\n"
   ]
  },
  {
   "cell_type": "code",
   "execution_count": 173,
   "id": "d5122fde",
   "metadata": {},
   "outputs": [
    {
     "name": "stdout",
     "output_type": "stream",
     "text": [
      "count before cleaning: 45523\n",
      "count after cleaning: 45041\n",
      "n.a. rows removed: 482\n",
      "OK!! fao_gaul_24_clean n. of rows matches expected count after cleaning.\n"
     ]
    }
   ],
   "source": [
    "#Check if the number of rows in fao_gaul_15_clean matches the expected count after removing n.a. values\n",
    "\n",
    "print('count before cleaning:', len(fao_gaul_24))\n",
    "print('count after cleaning:', len(fao_gaul_24_clean))\n",
    "print('n.a. rows removed:', len(to_drop_24))\n",
    "\n",
    "if len(fao_gaul_15_clean) + len(to_drop_15) != len(fao_gaul_15):\n",
    "    print(\"Warning: The number of rows in fao_gaul_15_clean does not match the expected count after removing n.a. values.\")\n",
    "else:\n",
    "    print(\"OK!! fao_gaul_24_clean n. of rows matches expected count after cleaning.\")"
   ]
  },
  {
   "cell_type": "code",
   "execution_count": 193,
   "id": "57a71537",
   "metadata": {},
   "outputs": [
    {
     "name": "stdout",
     "output_type": "stream",
     "text": [
      "Stored 'fao_gaul_15_count' (int)\n",
      "Stored 'fao_gaul_15_clean_count' (int)\n",
      "Stored 'fao_gaul_24_count' (int)\n",
      "Stored 'fao_gaul_24_clean_count' (int)\n",
      "Stored 'na_15_count' (int)\n",
      "Stored 'na_24_count' (int)\n"
     ]
    }
   ],
   "source": [
    "#store usefull variables\n",
    "fao_gaul_15_count = len(fao_gaul_15)\n",
    "fao_gaul_15_clean_count = len(fao_gaul_15_clean)\n",
    "\n",
    "%store fao_gaul_15_count\n",
    "%store fao_gaul_15_clean_count\n",
    "\n",
    "fao_gaul_24_count = len(fao_gaul_24)\n",
    "fao_gaul_24_clean_count = len(fao_gaul_24_clean)\n",
    "\n",
    "%store fao_gaul_24_count\n",
    "%store fao_gaul_24_clean_count\n",
    "\n",
    "na_15_count = len(to_drop_15)\n",
    "na_24_count = len(to_drop_24)\n",
    "\n",
    "%store na_15_count\n",
    "%store na_24_count"
   ]
  },
  {
   "cell_type": "markdown",
   "id": "c28caaaa",
   "metadata": {},
   "source": [
    "3- Perform spatial join on centroids (calculated on mercatore projection)"
   ]
  },
  {
   "cell_type": "code",
   "execution_count": 174,
   "id": "03091d34",
   "metadata": {},
   "outputs": [],
   "source": [
    "#Convert to mercatore and add centroids 2015\n",
    "fao_gaul_15_clean['centroids'] = fao_gaul_15_clean.geometry.to_crs(epsg=3395).centroid\n",
    "\n",
    "#set centroid as geometry\n",
    "fao_gaul_15_clean = fao_gaul_15_clean.set_geometry(\"centroids\")"
   ]
  },
  {
   "cell_type": "code",
   "execution_count": 175,
   "id": "8b30c32a",
   "metadata": {},
   "outputs": [],
   "source": [
    "#Convert to mercatore and add centroids 2024\n",
    "fao_gaul_24_clean['centroids'] = fao_gaul_24.geometry.to_crs(epsg=3395).centroid\n",
    "\n",
    "#set geometry to perform the join\n",
    "fao_gaul_24_clean = fao_gaul_24_clean.set_geometry(\"centroids\")"
   ]
  },
  {
   "cell_type": "code",
   "execution_count": 176,
   "id": "d92a2fa8",
   "metadata": {},
   "outputs": [],
   "source": [
    "# spatial join on centroids (50000 m max distance))\n",
    "spatial_join_50000m = fao_gaul_24_clean.sjoin_nearest(\n",
    "    fao_gaul_15_clean,\n",
    "    how=\"inner\",\n",
    "    max_distance=50000,\n",
    "    distance_col=\"distance\",\n",
    "    lsuffix='24',\n",
    "    rsuffix='15'\n",
    ")"
   ]
  },
  {
   "cell_type": "code",
   "execution_count": 177,
   "id": "31b1ec77",
   "metadata": {},
   "outputs": [],
   "source": [
    "#create a dataframe based on geodataframe of spatial join\n",
    "spatial_join = spatial_join_50000m[[\"gaul0_name\", \"gaul0_code\",\n",
    "                                    \"gaul1_name\", \"gaul1_code\",\n",
    "                                    \"gaul2_name\", \"gaul2_code\",\n",
    "                                    \"ADM0_NAME\", \"ADM0_CODE\", \n",
    "                                    \"ADM1_NAME\", \"ADM1_CODE\",\n",
    "                                    \"ADM2_NAME\", \"ADM2_CODE\",\n",
    "                                    \"distance\"]]"
   ]
  },
  {
   "cell_type": "code",
   "execution_count": 178,
   "id": "5f355568",
   "metadata": {},
   "outputs": [
    {
     "name": "stdout",
     "output_type": "stream",
     "text": [
      "number of duplicates deleted: 2780\n"
     ]
    }
   ],
   "source": [
    "#show the first rows of the db\n",
    "spatial_join.head()\n",
    "\n",
    "#Clean duplicate and mantain only the closest match\n",
    "spatial_join_clean = spatial_join.sort_values('distance', ascending=True).drop_duplicates(\n",
    "    subset=[\"gaul2_name\", \"ADM2_NAME\"],\n",
    "    keep=\"first\"\n",
    ").reset_index(drop=True)\n",
    "\n",
    "print('number of duplicates deleted:', (len(spatial_join))-(len(spatial_join_clean)))"
   ]
  },
  {
   "cell_type": "code",
   "execution_count": 179,
   "id": "40474c80",
   "metadata": {},
   "outputs": [],
   "source": [
    "# Calcola i codici unici matchati e unmatched per 2024 e 2015\n",
    "\n",
    "# Codici unici matchati\n",
    "#matched_24 = set(spatial_join_clean['gaul2_code'])\n",
    "#matched_15 = set(spatial_join_clean['ADM2_CODE'])\n",
    "\n",
    "# Tutti i codici presenti nei dati puliti\n",
    "#all_codes_24 = set(fao_gaul_24_clean['gaul2_code'])\n",
    "#all_codes_15 = set(fao_gaul_15_clean['ADM2_CODE'])\n",
    "\n",
    "# Codici unmatched\n",
    "#unmatched_24 = all_codes_24 - matched_24\n",
    "#unmatched_15 = all_codes_15 - matched_15\n",
    "\n",
    "# DataFrame delle geometrie unmatched\n",
    "#un_s_match_24 = fao_gaul_24_clean[fao_gaul_24_clean['gaul2_code'].isin(unmatched_24)]\n",
    "#un_s_match_15 = fao_gaul_15_clean[fao_gaul_15_clean['ADM2_CODE'].isin(unmatched_15)]\n",
    "\n",
    "#print('number of spatial matched for 2024:', len(matched_24))\n",
    "#print('number of spatial matched for 2015:', len(matched_15))\n",
    "#print('number of spatial unmatched for 2024:', len(unmatched_24))\n",
    "#print('number of spatial unmatched for 2015:', len(unmatched_15))\n",
    "#print(\"Totale 2024:\", len(all_codes_24))\n",
    "#print(\"Totale 2015:\", len(all_codes_15))\n",
    "#print(\"Somma 2024:\", len(matched_24) + len(unmatched_24))\n",
    "#print(\"Somma 2015:\", len(matched_15) + len(unmatched_15))\n"
   ]
  },
  {
   "cell_type": "markdown",
   "id": "9a905bd2",
   "metadata": {},
   "source": [
    "4 - String Match"
   ]
  },
  {
   "cell_type": "code",
   "execution_count": 180,
   "id": "38a4b21b",
   "metadata": {},
   "outputs": [
    {
     "name": "stdout",
     "output_type": "stream",
     "text": [
      "38246\n"
     ]
    }
   ],
   "source": [
    "#Normalize gaul levels\n",
    "norm_spatial_join = norm_gaul_levels(spatial_join_clean)\n",
    "print(len(norm_spatial_join))"
   ]
  },
  {
   "cell_type": "code",
   "execution_count": 181,
   "id": "be1b0e50",
   "metadata": {},
   "outputs": [],
   "source": [
    "#eliminate prefix to improve string matching\n",
    "norm_spatial_join['join_col'] = norm_spatial_join['join_col'].str.replace('municipality', '')\n",
    "norm_spatial_join['join_col'] = norm_spatial_join['join_col'].str.replace('cityof', '')\n",
    "norm_spatial_join['join_col'] = norm_spatial_join['join_col'].str.replace('city', '')\n",
    "norm_spatial_join['join_col'] = norm_spatial_join['join_col'].str.replace('district', '')\n",
    "norm_spatial_join['JOIN_COL'] = norm_spatial_join['JOIN_COL'].str.replace('municipality', '')\n",
    "norm_spatial_join['JOIN_COL'] = norm_spatial_join['JOIN_COL'].str.replace('cityof', '')\n",
    "norm_spatial_join['JOIN_COL'] = norm_spatial_join['JOIN_COL'].str.replace('city', '')\n",
    "norm_spatial_join['JOIN_COL'] = norm_spatial_join['JOIN_COL'].str.replace('district', '')"
   ]
  },
  {
   "cell_type": "code",
   "execution_count": 182,
   "id": "c3345330",
   "metadata": {},
   "outputs": [],
   "source": [
    "# Define match ratio of names\n",
    "def match_ratio(column1, column2, df):\n",
    "    return df.apply(lambda row: SequenceMatcher(None, row[column1], row[column2]).ratio(), axis=1)\n",
    "\n",
    "norm_spatial_join[\"match_ratio\"] = match_ratio(\"join_col\", \"JOIN_COL\", norm_spatial_join)"
   ]
  },
  {
   "cell_type": "code",
   "execution_count": 183,
   "id": "9a8b7447",
   "metadata": {},
   "outputs": [
    {
     "data": {
      "text/html": [
       "<div>\n",
       "<style scoped>\n",
       "    .dataframe tbody tr th:only-of-type {\n",
       "        vertical-align: middle;\n",
       "    }\n",
       "\n",
       "    .dataframe tbody tr th {\n",
       "        vertical-align: top;\n",
       "    }\n",
       "\n",
       "    .dataframe thead th {\n",
       "        text-align: right;\n",
       "    }\n",
       "</style>\n",
       "<table border=\"1\" class=\"dataframe\">\n",
       "  <thead>\n",
       "    <tr style=\"text-align: right;\">\n",
       "      <th></th>\n",
       "      <th>gaul_code2024</th>\n",
       "      <th>gaul_name2024</th>\n",
       "      <th>gaul_code2015</th>\n",
       "      <th>gaul_name2015</th>\n",
       "      <th>livello</th>\n",
       "      <th>distance</th>\n",
       "      <th>join_col2024</th>\n",
       "      <th>join_col2015</th>\n",
       "      <th>match_ratio</th>\n",
       "    </tr>\n",
       "  </thead>\n",
       "  <tbody>\n",
       "    <tr>\n",
       "      <th>0</th>\n",
       "      <td>101</td>\n",
       "      <td>Algeria</td>\n",
       "      <td>4</td>\n",
       "      <td>Algeria</td>\n",
       "      <td>0</td>\n",
       "      <td>NaN</td>\n",
       "      <td>algeria</td>\n",
       "      <td>algeria</td>\n",
       "      <td>1.000000</td>\n",
       "    </tr>\n",
       "    <tr>\n",
       "      <th>3</th>\n",
       "      <td>237</td>\n",
       "      <td>Democratic People's Republic of Korea</td>\n",
       "      <td>67</td>\n",
       "      <td>Dem People's Rep of Korea</td>\n",
       "      <td>0</td>\n",
       "      <td>NaN</td>\n",
       "      <td>democraticpeoplesrepublicofkorea</td>\n",
       "      <td>dempeoplesrepofkorea</td>\n",
       "      <td>0.769231</td>\n",
       "    </tr>\n",
       "    <tr>\n",
       "      <th>12</th>\n",
       "      <td>139</td>\n",
       "      <td>Liberia</td>\n",
       "      <td>144</td>\n",
       "      <td>Liberia</td>\n",
       "      <td>0</td>\n",
       "      <td>NaN</td>\n",
       "      <td>liberia</td>\n",
       "      <td>liberia</td>\n",
       "      <td>1.000000</td>\n",
       "    </tr>\n",
       "    <tr>\n",
       "      <th>27</th>\n",
       "      <td>208</td>\n",
       "      <td>Puerto Rico</td>\n",
       "      <td>200</td>\n",
       "      <td>Puerto Rico</td>\n",
       "      <td>0</td>\n",
       "      <td>NaN</td>\n",
       "      <td>puertorico</td>\n",
       "      <td>puertorico</td>\n",
       "      <td>1.000000</td>\n",
       "    </tr>\n",
       "    <tr>\n",
       "      <th>29</th>\n",
       "      <td>247</td>\n",
       "      <td>Jordan</td>\n",
       "      <td>130</td>\n",
       "      <td>Jordan</td>\n",
       "      <td>0</td>\n",
       "      <td>NaN</td>\n",
       "      <td>jordan</td>\n",
       "      <td>jordan</td>\n",
       "      <td>1.000000</td>\n",
       "    </tr>\n",
       "  </tbody>\n",
       "</table>\n",
       "</div>"
      ],
      "text/plain": [
       "    gaul_code2024                          gaul_name2024  gaul_code2015  \\\n",
       "0             101                                Algeria              4   \n",
       "3             237  Democratic People's Republic of Korea             67   \n",
       "12            139                                Liberia            144   \n",
       "27            208                            Puerto Rico            200   \n",
       "29            247                                 Jordan            130   \n",
       "\n",
       "                gaul_name2015  livello  distance  \\\n",
       "0                     Algeria        0       NaN   \n",
       "3   Dem People's Rep of Korea        0       NaN   \n",
       "12                    Liberia        0       NaN   \n",
       "27                Puerto Rico        0       NaN   \n",
       "29                     Jordan        0       NaN   \n",
       "\n",
       "                        join_col2024          join_col2015  match_ratio  \n",
       "0                            algeria               algeria     1.000000  \n",
       "3   democraticpeoplesrepublicofkorea  dempeoplesrepofkorea     0.769231  \n",
       "12                           liberia               liberia     1.000000  \n",
       "27                        puertorico            puertorico     1.000000  \n",
       "29                            jordan                jordan     1.000000  "
      ]
     },
     "execution_count": 183,
     "metadata": {},
     "output_type": "execute_result"
    }
   ],
   "source": [
    "#rename columns for clarity\n",
    "norm_spatial_join.rename(columns={\"join_col\": \"join_col2024\",\n",
    "                                  \"JOIN_COL\" : \"join_col2015\",\n",
    "                                  \"gaul_code\" : \"gaul_code2024\",\n",
    "                                  \"ADM_CODE\" : \"gaul_code2015\",\n",
    "                                  \"gaul_name\" : \"gaul_name2024\",\n",
    "                                  \"ADM_NAME\" : \"gaul_name2015\"}, inplace=True)\n",
    "norm_spatial_join.head()"
   ]
  },
  {
   "cell_type": "code",
   "execution_count": 184,
   "id": "161c0a51",
   "metadata": {},
   "outputs": [
    {
     "name": "stdout",
     "output_type": "stream",
     "text": [
      "30059\n",
      "7122\n"
     ]
    }
   ],
   "source": [
    "# Filter the DataFrame based on the conditions\n",
    "# Keep records with match_ratio > 0.4, or match_ratio < 0.39 and distance < 2000, or where distance is NaN (gaul 0 and 1)\n",
    "\n",
    "filter_par = (\n",
    "    (norm_spatial_join['match_ratio'] > 0.6) |\n",
    "    ((norm_spatial_join['match_ratio'].between(0.4, 0.59) & (norm_spatial_join['distance'] < 2000))) |\n",
    "    (norm_spatial_join['distance'].isna())\n",
    ")\n",
    "\n",
    "\n",
    "# Filter the DataFrame based on the conditions\n",
    "norm_spatial_join_filtered = norm_spatial_join[filter_par]\n",
    "out = norm_spatial_join[~filter_par]\n",
    "\n",
    "# sort and keep record with the higher match_ratio\n",
    "norm_spatial_join_filtered = norm_spatial_join_filtered.sort_values('match_ratio', ascending=False)\n",
    "norm_spatial_join_filtered = norm_spatial_join_filtered.drop_duplicates(subset='gaul_code2024', keep='first')\n",
    "\n",
    "# Same for gaul 2015\n",
    "norm_spatial_join_filtered = norm_spatial_join_filtered.sort_values('match_ratio', ascending=False)\n",
    "norm_spatial_join_filtered = norm_spatial_join_filtered.drop_duplicates(subset='gaul_code2015', keep='first')\n",
    "\n",
    "print(len(norm_spatial_join_filtered))\n",
    "\n",
    "# Rimuovi i duplicati per entrambe le colonne\n",
    "out_nodup = out.drop_duplicates(subset=['gaul_code2015', 'gaul_code2024'], keep='first')\n",
    "\n",
    "print(len(out_nodup))\n"
   ]
  },
  {
   "cell_type": "code",
   "execution_count": 185,
   "id": "0444b59c",
   "metadata": {},
   "outputs": [],
   "source": [
    "#save the dataframe to excel\n",
    "norm_spatial_join.to_excel(os.path.join(processed_folder,\"spatial_and_string_match.xlsx\"),index=False)\n",
    "norm_spatial_join_filtered.to_excel(os.path.join(processed_folder,\"spatial_and_string_match_filtered.xlsx\"),index=False)\n"
   ]
  },
  {
   "cell_type": "code",
   "execution_count": 194,
   "id": "9d6ae1b8",
   "metadata": {},
   "outputs": [
    {
     "name": "stdout",
     "output_type": "stream",
     "text": [
      "27819\n"
     ]
    }
   ],
   "source": [
    "gaul2_matched = norm_spatial_join_filtered[norm_spatial_join_filtered['livello'] == 2]\n",
    "print(len(gaul2_matched))"
   ]
  },
  {
   "cell_type": "code",
   "execution_count": 196,
   "id": "b8e09db6",
   "metadata": {},
   "outputs": [
    {
     "name": "stdout",
     "output_type": "stream",
     "text": [
      "Stored 'matched_count' (int)\n"
     ]
    }
   ],
   "source": [
    "#store usefull variables\n",
    "\n",
    "matched_count = len(gaul2_matched)\n",
    "\n",
    "%store matched_count"
   ]
  },
  {
   "cell_type": "code",
   "execution_count": 187,
   "id": "18ee92dd",
   "metadata": {},
   "outputs": [
    {
     "data": {
      "text/plain": [
       "9285"
      ]
     },
     "execution_count": 187,
     "metadata": {},
     "output_type": "execute_result"
    }
   ],
   "source": [
    "#check un matched rows\n",
    "mask = (\n",
    "    ~(fao_gaul_15_clean['ADM2_CODE']).isin(norm_spatial_join_filtered['gaul_code2015'])\n",
    ")\n",
    "fao_gaul_15_unmatched = fao_gaul_15_clean[mask]\n",
    "\n",
    "len(fao_gaul_15_unmatched)"
   ]
  },
  {
   "cell_type": "code",
   "execution_count": 188,
   "id": "12c582fd",
   "metadata": {},
   "outputs": [],
   "source": [
    "fao_gaul_15_unmatched.to_excel(os.path.join(processed_folder,\"unmatched_2015.xlsx\"),index=False)"
   ]
  },
  {
   "cell_type": "code",
   "execution_count": null,
   "id": "ceb8e798",
   "metadata": {},
   "outputs": [
    {
     "data": {
      "text/plain": [
       "17222"
      ]
     },
     "execution_count": 189,
     "metadata": {},
     "output_type": "execute_result"
    }
   ],
   "source": [
    "#check un matched rows\n",
    "mask_24 = (\n",
    "    ~fao_gaul_24_clean['gaul2_code'].isin(norm_spatial_join_filtered['gaul_code2024']) \n",
    ")\n",
    "fao_gaul_24_unmatched = fao_gaul_24_clean[mask_24]\n",
    "len(fao_gaul_24_unmatched)"
   ]
  },
  {
   "cell_type": "code",
   "execution_count": 190,
   "id": "275aaf38",
   "metadata": {},
   "outputs": [],
   "source": [
    "fao_gaul_24_unmatched.to_excel(os.path.join(processed_folder,\"unmatched_2024.xlsx\"),index=False)"
   ]
  },
  {
   "cell_type": "code",
   "execution_count": 197,
   "id": "2bdc6bdc",
   "metadata": {},
   "outputs": [
    {
     "name": "stdout",
     "output_type": "stream",
     "text": [
      "Stored 'unmatched_count_15' (int)\n",
      "Stored 'unmatched_count_24' (int)\n"
     ]
    }
   ],
   "source": [
    "#store usefull variables\n",
    "unmatched_count_15 = len(fao_gaul_15_unmatched)\n",
    "unmatched_count_24 = len(fao_gaul_24_unmatched)\n",
    "\n",
    "%store unmatched_count_15\n",
    "%store unmatched_count_24   "
   ]
  },
  {
   "cell_type": "code",
   "execution_count": 191,
   "id": "81217015",
   "metadata": {},
   "outputs": [
    {
     "ename": "SyntaxError",
     "evalue": "invalid decimal literal (843037397.py, line 1)",
     "output_type": "error",
     "traceback": [
      "  \u001b[36mCell\u001b[39m\u001b[36m \u001b[39m\u001b[32mIn[191]\u001b[39m\u001b[32m, line 1\u001b[39m\n\u001b[31m    \u001b[39m\u001b[31mhttps://sankeymatic.com/build/?i=PTAEFEDsBcFMCdQDEA2B7A7gZ1AI1tBrLJKAHJoAmsWANKCgJYDWso0AFo1gFwBQIUEOHCAymgCu8AMZsA2gEEAsgHkAqmQAqAXVCaAhvADmBPnyT60oAOL6JKUACZQACkcAGAIwBWAJSg5AGYAdk93AA5dAGEUWH1SH3NLGzsHZzcvPwDPH3ddMgA6BQLEvhi4hO8Ax2DwzwBOXVEAB31oRn0HAFs26Q5YSlBE8vihqrl6x3DvXTVIHug%2BsbMkq1t7J1cPRwAWfzkd73cdz2jY0d3VlI307b2AnfDHfKKCpx2zEdJd6tqGpta7U6oAWfQG7zK52%2BO2ywUc8Nm816HAhAjAAE1JKBpKMsARQPpyFRYAByHDSNDoeD0JisdhcXiQirvUAAYnc3nCK0Eajx9LYFJg8EpOHw6Aw7Cs0gkWGgaC6jAAXrA0aAAJ6SRCUDpGeD6LpkgnNZpxPWQWQFS18LBKtgSgBs7ncfCEKMdzp6xkYpAcnkcLtAiD9AegQy5QlwTmduCM2MpaEQrIAZinUyGzVhWvASKGyHxIMTQBLg67QEcA5n9NJvbHgt4A7gE9REM6hJxYF02PoAxSqWzwgPBwG0K1q9A1UM%2BEnxdipAA3NpSNjuAr1oTe%2DrwRjQJPCrqgSTQG3UAC03p78cT9WvN%2BHo%2B3E5Xhz4KH0GokoabCAJH%2DlbUY0gBgAVjK7RJhqW5GN6OB5kIIGyow4EkJQMEBtmc4IHiur6M0KKwQS0DQFWXDmvKzSxHAspWJApo0NAL76GK5KXmyTpsa2oBcNQ5ABlwRgcEw%2DGhiudYBkmaAwEmVZsFg8RYCeeJbkmAZMDRlbVpAsYrv6QjZq%2B7QYTaypDGEAY9EYkCIROYTOq%2BYqQPqXbGqaODohWtpDPaAZEIwQmgDsToMWKC4oBITkmoYrlifYKDNNm1Y2hJoBuUIzRoDa7RJWKmDebAvkcKGAW2YxsCxel26MEldhyp0vmkBxWBgp2P5ymJjDwLKeCwOJ2YNtm%2BjMGl3qFXwIVhaAPULKAJK0AUJIBnF3WMAAHtN81CFgEgpita18O2nZoCmeKhoSXkRqAHHSBdAaDB6BCEp2MCVZAsmQKwaoLAByUqdw7RdLgnTxLIrlAA\u001b[39m\n                                                                                                                                                                                                                                                                                                ^\n\u001b[31mSyntaxError\u001b[39m\u001b[31m:\u001b[39m invalid decimal literal\n"
     ]
    }
   ],
   "source": [
    "https://sankeymatic.com/build/?i=PTAEFEDsBcFMCdQDEA2B7A7gZ1AI1tBrLJKAHJoAmsWANKCgJYDWso0AFo1gFwBQIUEOHCAymgCu8AMZsA2gEEAsgHkAqmQAqAXVCaAhvADmBPnyT60oAOL6JKUACZQACkcAGAIwBWAJSg5AGYAdk93AA5dAGEUWH1SH3NLGzsHZzcvPwDPH3ddMgA6BQLEvhi4hO8Ax2DwzwBOXVEAB31oRn0HAFs26Q5YSlBE8vihqrl6x3DvXTVIHug%2BsbMkq1t7J1cPRwAWfzkd73cdz2jY0d3VlI307b2AnfDHfKKCpx2zEdJd6tqGpta7U6oAWfQG7zK52%2BO2ywUc8Nm816HAhAjAAE1JKBpKMsARQPpyFRYAByHDSNDoeD0JisdhcXiQirvUAAYnc3nCK0Eajx9LYFJg8EpOHw6Aw7Cs0gkWGgaC6jAAXrA0aAAJ6SRCUDpGeD6LpkgnNZpxPWQWQFS18LBKtgSgBs7ncfCEKMdzp6xkYpAcnkcLtAiD9AegQy5QlwTmduCM2MpaEQrIAZinUyGzVhWvASKGyHxIMTQBLg67QEcA5n9NJvbHgt4A7gE9REM6hJxYF02PoAxSqWzwgPBwG0K1q9A1UM%2BEnxdipAA3NpSNjuAr1oTe%2DrwRjQJPCrqgSTQG3UAC03p78cT9WvN%2BHo%2B3E5Xhz4KH0GokoabCAJH%2DlbUY0gBgAVjK7RJhqW5GN6OB5kIIGyow4EkJQMEBtmc4IHiur6M0KKwQS0DQFWXDmvKzSxHAspWJApo0NAL76GK5KXmyTpsa2oBcNQ5ABlwRgcEw%2DGhiudYBkmaAwEmVZsFg8RYCeeJbkmAZMDRlbVpAsYrv6QjZq%2B7QYTaypDGEAY9EYkCIROYTOq%2BYqQPqXbGqaODohWtpDPaAZEIwQmgDsToMWKC4oBITkmoYrlifYKDNNm1Y2hJoBuUIzRoDa7RJWKmDebAvkcKGAW2YxsCxel26MEldhyp0vmkBxWBgp2P5ymJjDwLKeCwOJ2YNtm%2BjMGl3qFXwIVhaAPULKAJK0AUJIBnF3WMAAHtN81CFgEgpita18O2nZoCmeKhoSXkRqAHHSBdAaDB6BCEp2MCVZAsmQKwaoLAByUqdw7RdLgnTxLIrlAA"
   ]
  }
 ],
 "metadata": {
  "kernelspec": {
   "display_name": "r_python",
   "language": "python",
   "name": "python3"
  },
  "language_info": {
   "codemirror_mode": {
    "name": "ipython",
    "version": 3
   },
   "file_extension": ".py",
   "mimetype": "text/x-python",
   "name": "python",
   "nbconvert_exporter": "python",
   "pygments_lexer": "ipython3",
   "version": "3.13.5"
  }
 },
 "nbformat": 4,
 "nbformat_minor": 5
}
